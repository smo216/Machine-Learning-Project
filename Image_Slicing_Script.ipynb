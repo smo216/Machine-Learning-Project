{
  "nbformat": 4,
  "nbformat_minor": 0,
  "metadata": {
    "colab": {
      "name": "Image Slicing Script.ipynb",
      "provenance": [],
      "collapsed_sections": [],
      "machine_shape": "hm",
      "include_colab_link": true
    },
    "kernelspec": {
      "name": "python3",
      "display_name": "Python 3"
    }
  },
  "cells": [
    {
      "cell_type": "markdown",
      "metadata": {
        "id": "view-in-github",
        "colab_type": "text"
      },
      "source": [
        "<a href=\"https://colab.research.google.com/github/smo216/Machine-Learning-Project/blob/master/Image_Slicing_Script.ipynb\" target=\"_parent\"><img src=\"https://colab.research.google.com/assets/colab-badge.svg\" alt=\"Open In Colab\"/></a>"
      ]
    },
    {
      "cell_type": "code",
      "metadata": {
        "id": "VTFUhEmITcxd",
        "colab_type": "code",
        "outputId": "3a6dd7fa-b44c-4528-82c4-54ce2eeb4d25",
        "colab": {
          "base_uri": "https://localhost:8080/",
          "height": 70
        }
      },
      "source": [
        "#load multiple data\n",
        "\"\"\"Utilize histogram matching to normalize images? https://scikit-image.org/docs/stable/auto_examples/transform/plot_histogram_matching.html#sphx-glr-auto-examples-transform-plot-histogram-matching-py\"\"\"\n",
        "## For Image portion\n",
        "\n",
        "from google.colab import drive\n",
        "drive.mount('/content/gdrive')\n",
        "from PIL import Image\n",
        "from pylab import *\n",
        "# importing os module \n",
        "import os \n",
        "from skimage import io\n",
        "import matplotlib.pyplot as plt\n",
        "import numpy as np\n",
        "import glob\n",
        "import cv2\n",
        "from skimage.io import imread_collection\n",
        "from skimage.util import img_as_ubyte\n",
        "from skimage import data\n",
        "from skimage.exposure import histogram\n",
        "import skimage\n",
        "import pandas as pd\n",
        "from pandas import read_csv\n",
        "from skimage.transform import rescale, resize, downscale_local_mean\n",
        "\n",
        "slicepath=\"//content//gdrive//My Drive//PhD Image Processing//Python HP//HP-16-Test\"\n",
        "os.chdir(slicepath)\n",
        "slicecol=imread_collection('*.tif') #grab all files with .tif format\n",
        "print(slicecol)\n",
        "Ls=len(slicecol)\n",
        "sliceim=array(slicecol[:])\n",
        "cropslice=sliceim[:,0:4095,:] #crop array to remove scalebar\n",
        "#print(scaleim17)\n"
      ],
      "execution_count": 0,
      "outputs": [
        {
          "output_type": "stream",
          "text": [
            "Drive already mounted at /content/gdrive; to attempt to forcibly remount, call drive.mount(\"/content/gdrive\", force_remount=True).\n",
            "['Copy of HP-16_16.tif', 'Copy of HP-16_17.tif', 'Copy of HP-16_18.tif', 'Copy of HP-16_19.tif', 'Copy of HP-16_20.tif', 'Copy of HP-16_21.tif', 'Copy of HP-16_22.tif', 'Copy of HP-16_23.tif', 'Copy of HP-16_24.tif', 'Copy of HP-16_25.tif']\n"
          ],
          "name": "stdout"
        }
      ]
    },
    {
      "cell_type": "code",
      "metadata": {
        "id": "ACSlOrPGCVnK",
        "colab_type": "code",
        "outputId": "be0182cc-b166-4821-9fc3-64c4a3630128",
        "colab": {
          "base_uri": "https://localhost:8080/",
          "height": 1000
        }
      },
      "source": [
        "\"\"\"THIS WORKS!!!!!!!!!!!!\"\"\"\n",
        "from PIL import Image\n",
        "img = sliceim[3]#.astype(np.uint16)#Image.open('HP-17_0.tif').convert('LA')\n",
        "img=img[0:4080,:]\n",
        "gridx=256\n",
        "gridy=170\n",
        "rangex=int(6144/gridx)\n",
        "print(rangex)\n",
        "rangey=int(4080/gridy)\n",
        "print(rangey)\n",
        "print (rangex*rangey)\n",
        "for x in range(rangex):\n",
        "  for y in range(rangey):\n",
        "    slice_bit=img[y*gridy:y*gridy+gridy,x*gridx:x*gridx+gridx]\n",
        "    io.imsave(('Slice/HP-16_3_'+str(x)+'_'+str(y)+'.png'),slice_bit)\n",
        "    print('HP-16_3_'+str(x)+'_'+str(y)+'.png')\n",
        "print(gridx)"
      ],
      "execution_count": 0,
      "outputs": [
        {
          "output_type": "stream",
          "text": [
            "24\n",
            "24\n",
            "576\n",
            "HP-16_3_0_0.png\n",
            "HP-16_3_0_1.png\n",
            "HP-16_3_0_2.png\n",
            "HP-16_3_0_3.png\n",
            "HP-16_3_0_4.png\n",
            "HP-16_3_0_5.png\n",
            "HP-16_3_0_6.png\n",
            "HP-16_3_0_7.png\n",
            "HP-16_3_0_8.png\n",
            "HP-16_3_0_9.png\n",
            "HP-16_3_0_10.png\n",
            "HP-16_3_0_11.png\n",
            "HP-16_3_0_12.png\n",
            "HP-16_3_0_13.png\n",
            "HP-16_3_0_14.png\n",
            "HP-16_3_0_15.png\n",
            "HP-16_3_0_16.png\n",
            "HP-16_3_0_17.png\n",
            "HP-16_3_0_18.png\n",
            "HP-16_3_0_19.png\n",
            "HP-16_3_0_20.png\n",
            "HP-16_3_0_21.png\n",
            "HP-16_3_0_22.png\n",
            "HP-16_3_0_23.png\n",
            "HP-16_3_1_0.png\n",
            "HP-16_3_1_1.png\n",
            "HP-16_3_1_2.png\n",
            "HP-16_3_1_3.png\n",
            "HP-16_3_1_4.png\n",
            "HP-16_3_1_5.png\n",
            "HP-16_3_1_6.png\n",
            "HP-16_3_1_7.png\n",
            "HP-16_3_1_8.png\n",
            "HP-16_3_1_9.png\n",
            "HP-16_3_1_10.png\n",
            "HP-16_3_1_11.png\n",
            "HP-16_3_1_12.png\n",
            "HP-16_3_1_13.png\n",
            "HP-16_3_1_14.png\n",
            "HP-16_3_1_15.png\n",
            "HP-16_3_1_16.png\n",
            "HP-16_3_1_17.png\n",
            "HP-16_3_1_18.png\n",
            "HP-16_3_1_19.png\n",
            "HP-16_3_1_20.png\n",
            "HP-16_3_1_21.png\n",
            "HP-16_3_1_22.png\n",
            "HP-16_3_1_23.png\n",
            "HP-16_3_2_0.png\n",
            "HP-16_3_2_1.png\n",
            "HP-16_3_2_2.png\n",
            "HP-16_3_2_3.png\n",
            "HP-16_3_2_4.png\n",
            "HP-16_3_2_5.png\n",
            "HP-16_3_2_6.png\n",
            "HP-16_3_2_7.png\n",
            "HP-16_3_2_8.png\n",
            "HP-16_3_2_9.png\n",
            "HP-16_3_2_10.png\n",
            "HP-16_3_2_11.png\n",
            "HP-16_3_2_12.png\n",
            "HP-16_3_2_13.png\n",
            "HP-16_3_2_14.png\n",
            "HP-16_3_2_15.png\n",
            "HP-16_3_2_16.png\n",
            "HP-16_3_2_17.png\n",
            "HP-16_3_2_18.png\n",
            "HP-16_3_2_19.png\n",
            "HP-16_3_2_20.png\n",
            "HP-16_3_2_21.png\n",
            "HP-16_3_2_22.png\n",
            "HP-16_3_2_23.png\n",
            "HP-16_3_3_0.png\n"
          ],
          "name": "stdout"
        },
        {
          "output_type": "stream",
          "text": [
            "/usr/local/lib/python3.6/dist-packages/skimage/io/_io.py:141: UserWarning: Slice/HP-16_3_3_1.png is a low contrast image\n",
            "  warn('%s is a low contrast image' % fname)\n"
          ],
          "name": "stderr"
        },
        {
          "output_type": "stream",
          "text": [
            "HP-16_3_3_1.png\n",
            "HP-16_3_3_2.png\n",
            "HP-16_3_3_3.png\n",
            "HP-16_3_3_4.png\n",
            "HP-16_3_3_5.png\n",
            "HP-16_3_3_6.png\n",
            "HP-16_3_3_7.png\n",
            "HP-16_3_3_8.png\n"
          ],
          "name": "stdout"
        },
        {
          "output_type": "stream",
          "text": [
            "/usr/local/lib/python3.6/dist-packages/skimage/io/_io.py:141: UserWarning: Slice/HP-16_3_3_4.png is a low contrast image\n",
            "  warn('%s is a low contrast image' % fname)\n",
            "/usr/local/lib/python3.6/dist-packages/skimage/io/_io.py:141: UserWarning: Slice/HP-16_3_3_5.png is a low contrast image\n",
            "  warn('%s is a low contrast image' % fname)\n"
          ],
          "name": "stderr"
        },
        {
          "output_type": "stream",
          "text": [
            "HP-16_3_3_9.png\n",
            "HP-16_3_3_10.png\n",
            "HP-16_3_3_11.png\n",
            "HP-16_3_3_12.png\n",
            "HP-16_3_3_13.png\n",
            "HP-16_3_3_14.png\n",
            "HP-16_3_3_15.png\n",
            "HP-16_3_3_16.png\n",
            "HP-16_3_3_17.png\n",
            "HP-16_3_3_18.png\n",
            "HP-16_3_3_19.png\n",
            "HP-16_3_3_20.png\n",
            "HP-16_3_3_21.png\n",
            "HP-16_3_3_22.png\n",
            "HP-16_3_3_23.png\n",
            "HP-16_3_4_0.png\n",
            "HP-16_3_4_1.png\n",
            "HP-16_3_4_2.png\n",
            "HP-16_3_4_3.png\n",
            "HP-16_3_4_4.png\n",
            "HP-16_3_4_5.png\n",
            "HP-16_3_4_6.png\n",
            "HP-16_3_4_7.png\n",
            "HP-16_3_4_8.png\n"
          ],
          "name": "stdout"
        },
        {
          "output_type": "stream",
          "text": [
            "/usr/local/lib/python3.6/dist-packages/skimage/io/_io.py:141: UserWarning: Slice/HP-16_3_4_2.png is a low contrast image\n",
            "  warn('%s is a low contrast image' % fname)\n"
          ],
          "name": "stderr"
        },
        {
          "output_type": "stream",
          "text": [
            "HP-16_3_4_9.png\n",
            "HP-16_3_4_10.png\n",
            "HP-16_3_4_11.png\n",
            "HP-16_3_4_12.png\n",
            "HP-16_3_4_13.png\n",
            "HP-16_3_4_14.png\n",
            "HP-16_3_4_15.png\n",
            "HP-16_3_4_16.png\n",
            "HP-16_3_4_17.png\n",
            "HP-16_3_4_18.png\n",
            "HP-16_3_4_19.png\n",
            "HP-16_3_4_20.png\n",
            "HP-16_3_4_21.png\n",
            "HP-16_3_4_22.png\n",
            "HP-16_3_4_23.png\n",
            "HP-16_3_5_0.png\n",
            "HP-16_3_5_1.png\n",
            "HP-16_3_5_2.png\n",
            "HP-16_3_5_3.png\n",
            "HP-16_3_5_4.png\n",
            "HP-16_3_5_5.png\n",
            "HP-16_3_5_6.png\n",
            "HP-16_3_5_7.png\n",
            "HP-16_3_5_8.png\n",
            "HP-16_3_5_9.png\n",
            "HP-16_3_5_10.png\n",
            "HP-16_3_5_11.png\n",
            "HP-16_3_5_12.png\n",
            "HP-16_3_5_13.png\n",
            "HP-16_3_5_14.png\n",
            "HP-16_3_5_15.png\n",
            "HP-16_3_5_16.png\n",
            "HP-16_3_5_17.png\n",
            "HP-16_3_5_18.png\n",
            "HP-16_3_5_19.png\n",
            "HP-16_3_5_20.png\n",
            "HP-16_3_5_21.png\n",
            "HP-16_3_5_22.png\n",
            "HP-16_3_5_23.png\n",
            "HP-16_3_6_0.png\n",
            "HP-16_3_6_1.png\n",
            "HP-16_3_6_2.png\n",
            "HP-16_3_6_3.png\n",
            "HP-16_3_6_4.png\n",
            "HP-16_3_6_5.png\n",
            "HP-16_3_6_6.png\n",
            "HP-16_3_6_7.png\n",
            "HP-16_3_6_8.png\n",
            "HP-16_3_6_9.png\n",
            "HP-16_3_6_10.png\n",
            "HP-16_3_6_11.png\n",
            "HP-16_3_6_12.png\n",
            "HP-16_3_6_13.png\n",
            "HP-16_3_6_14.png\n",
            "HP-16_3_6_15.png\n",
            "HP-16_3_6_16.png\n",
            "HP-16_3_6_17.png\n",
            "HP-16_3_6_18.png\n",
            "HP-16_3_6_19.png\n",
            "HP-16_3_6_20.png\n",
            "HP-16_3_6_21.png\n",
            "HP-16_3_6_22.png\n",
            "HP-16_3_6_23.png\n"
          ],
          "name": "stdout"
        },
        {
          "output_type": "stream",
          "text": [
            "/usr/local/lib/python3.6/dist-packages/skimage/io/_io.py:141: UserWarning: Slice/HP-16_3_7_0.png is a low contrast image\n",
            "  warn('%s is a low contrast image' % fname)\n",
            "/usr/local/lib/python3.6/dist-packages/skimage/io/_io.py:141: UserWarning: Slice/HP-16_3_7_2.png is a low contrast image\n",
            "  warn('%s is a low contrast image' % fname)\n",
            "/usr/local/lib/python3.6/dist-packages/skimage/io/_io.py:141: UserWarning: Slice/HP-16_3_7_3.png is a low contrast image\n",
            "  warn('%s is a low contrast image' % fname)\n"
          ],
          "name": "stderr"
        },
        {
          "output_type": "stream",
          "text": [
            "HP-16_3_7_0.png\n",
            "HP-16_3_7_1.png\n",
            "HP-16_3_7_2.png\n",
            "HP-16_3_7_3.png\n",
            "HP-16_3_7_4.png\n",
            "HP-16_3_7_5.png\n",
            "HP-16_3_7_6.png\n",
            "HP-16_3_7_7.png\n",
            "HP-16_3_7_8.png\n",
            "HP-16_3_7_9.png\n",
            "HP-16_3_7_10.png\n",
            "HP-16_3_7_11.png\n",
            "HP-16_3_7_12.png\n",
            "HP-16_3_7_13.png\n",
            "HP-16_3_7_14.png\n",
            "HP-16_3_7_15.png\n",
            "HP-16_3_7_16.png\n",
            "HP-16_3_7_17.png\n",
            "HP-16_3_7_18.png\n",
            "HP-16_3_7_19.png\n",
            "HP-16_3_7_20.png\n",
            "HP-16_3_7_21.png\n",
            "HP-16_3_7_22.png\n",
            "HP-16_3_7_23.png\n",
            "HP-16_3_8_0.png\n",
            "HP-16_3_8_1.png\n"
          ],
          "name": "stdout"
        },
        {
          "output_type": "stream",
          "text": [
            "/usr/local/lib/python3.6/dist-packages/skimage/io/_io.py:141: UserWarning: Slice/HP-16_3_8_1.png is a low contrast image\n",
            "  warn('%s is a low contrast image' % fname)\n",
            "/usr/local/lib/python3.6/dist-packages/skimage/io/_io.py:141: UserWarning: Slice/HP-16_3_8_2.png is a low contrast image\n",
            "  warn('%s is a low contrast image' % fname)\n",
            "/usr/local/lib/python3.6/dist-packages/skimage/io/_io.py:141: UserWarning: Slice/HP-16_3_8_3.png is a low contrast image\n",
            "  warn('%s is a low contrast image' % fname)\n"
          ],
          "name": "stderr"
        },
        {
          "output_type": "stream",
          "text": [
            "HP-16_3_8_2.png\n",
            "HP-16_3_8_3.png\n",
            "HP-16_3_8_4.png\n",
            "HP-16_3_8_5.png\n",
            "HP-16_3_8_6.png\n",
            "HP-16_3_8_7.png\n",
            "HP-16_3_8_8.png\n",
            "HP-16_3_8_9.png\n",
            "HP-16_3_8_10.png\n",
            "HP-16_3_8_11.png\n",
            "HP-16_3_8_12.png\n",
            "HP-16_3_8_13.png\n",
            "HP-16_3_8_14.png\n",
            "HP-16_3_8_15.png\n",
            "HP-16_3_8_16.png\n",
            "HP-16_3_8_17.png\n",
            "HP-16_3_8_18.png\n",
            "HP-16_3_8_19.png\n",
            "HP-16_3_8_20.png\n",
            "HP-16_3_8_21.png\n",
            "HP-16_3_8_22.png\n",
            "HP-16_3_8_23.png\n",
            "HP-16_3_9_0.png\n",
            "HP-16_3_9_1.png\n",
            "HP-16_3_9_2.png\n",
            "HP-16_3_9_3.png\n",
            "HP-16_3_9_4.png\n",
            "HP-16_3_9_5.png\n"
          ],
          "name": "stdout"
        },
        {
          "output_type": "stream",
          "text": [
            "/usr/local/lib/python3.6/dist-packages/skimage/io/_io.py:141: UserWarning: Slice/HP-16_3_9_0.png is a low contrast image\n",
            "  warn('%s is a low contrast image' % fname)\n",
            "/usr/local/lib/python3.6/dist-packages/skimage/io/_io.py:141: UserWarning: Slice/HP-16_3_9_1.png is a low contrast image\n",
            "  warn('%s is a low contrast image' % fname)\n",
            "/usr/local/lib/python3.6/dist-packages/skimage/io/_io.py:141: UserWarning: Slice/HP-16_3_9_2.png is a low contrast image\n",
            "  warn('%s is a low contrast image' % fname)\n",
            "/usr/local/lib/python3.6/dist-packages/skimage/io/_io.py:141: UserWarning: Slice/HP-16_3_9_3.png is a low contrast image\n",
            "  warn('%s is a low contrast image' % fname)\n"
          ],
          "name": "stderr"
        },
        {
          "output_type": "stream",
          "text": [
            "HP-16_3_9_6.png\n",
            "HP-16_3_9_7.png\n",
            "HP-16_3_9_8.png\n",
            "HP-16_3_9_9.png\n",
            "HP-16_3_9_10.png\n",
            "HP-16_3_9_11.png\n",
            "HP-16_3_9_12.png\n",
            "HP-16_3_9_13.png\n",
            "HP-16_3_9_14.png\n",
            "HP-16_3_9_15.png\n",
            "HP-16_3_9_16.png\n",
            "HP-16_3_9_17.png\n",
            "HP-16_3_9_18.png\n",
            "HP-16_3_9_19.png\n",
            "HP-16_3_9_20.png\n",
            "HP-16_3_9_21.png\n",
            "HP-16_3_9_22.png\n",
            "HP-16_3_9_23.png\n",
            "HP-16_3_10_0.png\n",
            "HP-16_3_10_1.png\n",
            "HP-16_3_10_2.png\n",
            "HP-16_3_10_3.png\n",
            "HP-16_3_10_4.png\n",
            "HP-16_3_10_5.png\n",
            "HP-16_3_10_6.png\n",
            "HP-16_3_10_7.png\n",
            "HP-16_3_10_8.png\n",
            "HP-16_3_10_9.png\n",
            "HP-16_3_10_10.png\n",
            "HP-16_3_10_11.png\n",
            "HP-16_3_10_12.png\n",
            "HP-16_3_10_13.png\n",
            "HP-16_3_10_14.png\n",
            "HP-16_3_10_15.png\n",
            "HP-16_3_10_16.png\n",
            "HP-16_3_10_17.png\n",
            "HP-16_3_10_18.png\n",
            "HP-16_3_10_19.png\n",
            "HP-16_3_10_20.png\n",
            "HP-16_3_10_21.png\n",
            "HP-16_3_10_22.png\n",
            "HP-16_3_10_23.png\n",
            "HP-16_3_11_0.png\n",
            "HP-16_3_11_1.png\n"
          ],
          "name": "stdout"
        },
        {
          "output_type": "stream",
          "text": [
            "/usr/local/lib/python3.6/dist-packages/skimage/io/_io.py:141: UserWarning: Slice/HP-16_3_11_0.png is a low contrast image\n",
            "  warn('%s is a low contrast image' % fname)\n",
            "/usr/local/lib/python3.6/dist-packages/skimage/io/_io.py:141: UserWarning: Slice/HP-16_3_11_2.png is a low contrast image\n",
            "  warn('%s is a low contrast image' % fname)\n",
            "/usr/local/lib/python3.6/dist-packages/skimage/io/_io.py:141: UserWarning: Slice/HP-16_3_11_3.png is a low contrast image\n",
            "  warn('%s is a low contrast image' % fname)\n"
          ],
          "name": "stderr"
        },
        {
          "output_type": "stream",
          "text": [
            "HP-16_3_11_2.png\n",
            "HP-16_3_11_3.png\n",
            "HP-16_3_11_4.png\n",
            "HP-16_3_11_5.png\n",
            "HP-16_3_11_6.png\n",
            "HP-16_3_11_7.png\n",
            "HP-16_3_11_8.png\n",
            "HP-16_3_11_9.png\n",
            "HP-16_3_11_10.png\n",
            "HP-16_3_11_11.png\n",
            "HP-16_3_11_12.png\n",
            "HP-16_3_11_13.png\n",
            "HP-16_3_11_14.png\n",
            "HP-16_3_11_15.png\n",
            "HP-16_3_11_16.png\n",
            "HP-16_3_11_17.png\n",
            "HP-16_3_11_18.png\n",
            "HP-16_3_11_19.png\n",
            "HP-16_3_11_20.png\n",
            "HP-16_3_11_21.png\n",
            "HP-16_3_11_22.png\n",
            "HP-16_3_11_23.png\n",
            "HP-16_3_12_0.png\n",
            "HP-16_3_12_1.png\n",
            "HP-16_3_12_2.png\n",
            "HP-16_3_12_3.png\n",
            "HP-16_3_12_4.png\n"
          ],
          "name": "stdout"
        },
        {
          "output_type": "stream",
          "text": [
            "/usr/local/lib/python3.6/dist-packages/skimage/io/_io.py:141: UserWarning: Slice/HP-16_3_12_0.png is a low contrast image\n",
            "  warn('%s is a low contrast image' % fname)\n"
          ],
          "name": "stderr"
        },
        {
          "output_type": "stream",
          "text": [
            "HP-16_3_12_5.png\n",
            "HP-16_3_12_6.png\n",
            "HP-16_3_12_7.png\n",
            "HP-16_3_12_8.png\n",
            "HP-16_3_12_9.png\n",
            "HP-16_3_12_10.png\n",
            "HP-16_3_12_11.png\n",
            "HP-16_3_12_12.png\n",
            "HP-16_3_12_13.png\n",
            "HP-16_3_12_14.png\n",
            "HP-16_3_12_15.png\n",
            "HP-16_3_12_16.png\n",
            "HP-16_3_12_17.png\n",
            "HP-16_3_12_18.png\n",
            "HP-16_3_12_19.png\n",
            "HP-16_3_12_20.png\n",
            "HP-16_3_12_21.png\n",
            "HP-16_3_12_22.png\n",
            "HP-16_3_12_23.png\n",
            "HP-16_3_13_0.png\n",
            "HP-16_3_13_1.png\n",
            "HP-16_3_13_2.png\n",
            "HP-16_3_13_3.png\n",
            "HP-16_3_13_4.png\n",
            "HP-16_3_13_5.png\n",
            "HP-16_3_13_6.png\n",
            "HP-16_3_13_7.png\n",
            "HP-16_3_13_8.png\n",
            "HP-16_3_13_9.png\n",
            "HP-16_3_13_10.png\n",
            "HP-16_3_13_11.png\n",
            "HP-16_3_13_12.png\n",
            "HP-16_3_13_13.png\n",
            "HP-16_3_13_14.png\n",
            "HP-16_3_13_15.png\n",
            "HP-16_3_13_16.png\n",
            "HP-16_3_13_17.png\n",
            "HP-16_3_13_18.png\n",
            "HP-16_3_13_19.png\n",
            "HP-16_3_13_20.png\n",
            "HP-16_3_13_21.png\n",
            "HP-16_3_13_22.png\n",
            "HP-16_3_13_23.png\n",
            "HP-16_3_14_0.png\n",
            "HP-16_3_14_1.png\n",
            "HP-16_3_14_2.png\n",
            "HP-16_3_14_3.png\n",
            "HP-16_3_14_4.png\n",
            "HP-16_3_14_5.png\n",
            "HP-16_3_14_6.png\n",
            "HP-16_3_14_7.png\n",
            "HP-16_3_14_8.png\n",
            "HP-16_3_14_9.png\n"
          ],
          "name": "stdout"
        },
        {
          "output_type": "stream",
          "text": [
            "/usr/local/lib/python3.6/dist-packages/skimage/io/_io.py:141: UserWarning: Slice/HP-16_3_14_7.png is a low contrast image\n",
            "  warn('%s is a low contrast image' % fname)\n",
            "/usr/local/lib/python3.6/dist-packages/skimage/io/_io.py:141: UserWarning: Slice/HP-16_3_14_8.png is a low contrast image\n",
            "  warn('%s is a low contrast image' % fname)\n"
          ],
          "name": "stderr"
        },
        {
          "output_type": "stream",
          "text": [
            "HP-16_3_14_10.png\n",
            "HP-16_3_14_11.png\n",
            "HP-16_3_14_12.png\n",
            "HP-16_3_14_13.png\n",
            "HP-16_3_14_14.png\n",
            "HP-16_3_14_15.png\n",
            "HP-16_3_14_16.png\n",
            "HP-16_3_14_17.png\n",
            "HP-16_3_14_18.png\n",
            "HP-16_3_14_19.png\n",
            "HP-16_3_14_20.png\n",
            "HP-16_3_14_21.png\n",
            "HP-16_3_14_22.png\n",
            "HP-16_3_14_23.png\n",
            "HP-16_3_15_0.png\n",
            "HP-16_3_15_1.png\n",
            "HP-16_3_15_2.png\n",
            "HP-16_3_15_3.png\n"
          ],
          "name": "stdout"
        },
        {
          "output_type": "stream",
          "text": [
            "/usr/local/lib/python3.6/dist-packages/skimage/io/_io.py:141: UserWarning: Slice/HP-16_3_15_0.png is a low contrast image\n",
            "  warn('%s is a low contrast image' % fname)\n",
            "/usr/local/lib/python3.6/dist-packages/skimage/io/_io.py:141: UserWarning: Slice/HP-16_3_15_7.png is a low contrast image\n",
            "  warn('%s is a low contrast image' % fname)\n"
          ],
          "name": "stderr"
        },
        {
          "output_type": "stream",
          "text": [
            "HP-16_3_15_4.png\n",
            "HP-16_3_15_5.png\n",
            "HP-16_3_15_6.png\n",
            "HP-16_3_15_7.png\n",
            "HP-16_3_15_8.png\n",
            "HP-16_3_15_9.png\n",
            "HP-16_3_15_10.png\n",
            "HP-16_3_15_11.png\n"
          ],
          "name": "stdout"
        },
        {
          "output_type": "stream",
          "text": [
            "/usr/local/lib/python3.6/dist-packages/skimage/io/_io.py:141: UserWarning: Slice/HP-16_3_15_8.png is a low contrast image\n",
            "  warn('%s is a low contrast image' % fname)\n",
            "/usr/local/lib/python3.6/dist-packages/skimage/io/_io.py:141: UserWarning: Slice/HP-16_3_15_9.png is a low contrast image\n",
            "  warn('%s is a low contrast image' % fname)\n"
          ],
          "name": "stderr"
        },
        {
          "output_type": "stream",
          "text": [
            "HP-16_3_15_12.png\n",
            "HP-16_3_15_13.png\n",
            "HP-16_3_15_14.png\n",
            "HP-16_3_15_15.png\n",
            "HP-16_3_15_16.png\n",
            "HP-16_3_15_17.png\n",
            "HP-16_3_15_18.png\n",
            "HP-16_3_15_19.png\n",
            "HP-16_3_15_20.png\n",
            "HP-16_3_15_21.png\n",
            "HP-16_3_15_22.png\n",
            "HP-16_3_15_23.png\n",
            "HP-16_3_16_0.png\n",
            "HP-16_3_16_1.png\n",
            "HP-16_3_16_2.png\n",
            "HP-16_3_16_3.png\n",
            "HP-16_3_16_4.png\n",
            "HP-16_3_16_5.png\n"
          ],
          "name": "stdout"
        },
        {
          "output_type": "stream",
          "text": [
            "/usr/local/lib/python3.6/dist-packages/skimage/io/_io.py:141: UserWarning: Slice/HP-16_3_16_4.png is a low contrast image\n",
            "  warn('%s is a low contrast image' % fname)\n",
            "/usr/local/lib/python3.6/dist-packages/skimage/io/_io.py:141: UserWarning: Slice/HP-16_3_16_5.png is a low contrast image\n",
            "  warn('%s is a low contrast image' % fname)\n",
            "/usr/local/lib/python3.6/dist-packages/skimage/io/_io.py:141: UserWarning: Slice/HP-16_3_16_6.png is a low contrast image\n",
            "  warn('%s is a low contrast image' % fname)\n"
          ],
          "name": "stderr"
        },
        {
          "output_type": "stream",
          "text": [
            "HP-16_3_16_6.png\n",
            "HP-16_3_16_7.png\n",
            "HP-16_3_16_8.png\n",
            "HP-16_3_16_9.png\n",
            "HP-16_3_16_10.png\n",
            "HP-16_3_16_11.png\n",
            "HP-16_3_16_12.png\n",
            "HP-16_3_16_13.png\n",
            "HP-16_3_16_14.png\n",
            "HP-16_3_16_15.png\n",
            "HP-16_3_16_16.png\n",
            "HP-16_3_16_17.png\n",
            "HP-16_3_16_18.png\n",
            "HP-16_3_16_19.png\n",
            "HP-16_3_16_20.png\n",
            "HP-16_3_16_21.png\n",
            "HP-16_3_16_22.png\n",
            "HP-16_3_16_23.png\n"
          ],
          "name": "stdout"
        },
        {
          "output_type": "stream",
          "text": [
            "/usr/local/lib/python3.6/dist-packages/skimage/io/_io.py:141: UserWarning: Slice/HP-16_3_17_0.png is a low contrast image\n",
            "  warn('%s is a low contrast image' % fname)\n",
            "/usr/local/lib/python3.6/dist-packages/skimage/io/_io.py:141: UserWarning: Slice/HP-16_3_17_1.png is a low contrast image\n",
            "  warn('%s is a low contrast image' % fname)\n"
          ],
          "name": "stderr"
        },
        {
          "output_type": "stream",
          "text": [
            "HP-16_3_17_0.png\n",
            "HP-16_3_17_1.png\n"
          ],
          "name": "stdout"
        },
        {
          "output_type": "stream",
          "text": [
            "/usr/local/lib/python3.6/dist-packages/skimage/io/_io.py:141: UserWarning: Slice/HP-16_3_17_2.png is a low contrast image\n",
            "  warn('%s is a low contrast image' % fname)\n"
          ],
          "name": "stderr"
        },
        {
          "output_type": "stream",
          "text": [
            "HP-16_3_17_2.png\n",
            "HP-16_3_17_3.png\n",
            "HP-16_3_17_4.png\n",
            "HP-16_3_17_5.png\n",
            "HP-16_3_17_6.png\n",
            "HP-16_3_17_7.png\n",
            "HP-16_3_17_8.png\n"
          ],
          "name": "stdout"
        },
        {
          "output_type": "stream",
          "text": [
            "/usr/local/lib/python3.6/dist-packages/skimage/io/_io.py:141: UserWarning: Slice/HP-16_3_17_9.png is a low contrast image\n",
            "  warn('%s is a low contrast image' % fname)\n"
          ],
          "name": "stderr"
        },
        {
          "output_type": "stream",
          "text": [
            "HP-16_3_17_9.png\n",
            "HP-16_3_17_10.png\n",
            "HP-16_3_17_11.png\n",
            "HP-16_3_17_12.png\n",
            "HP-16_3_17_13.png\n",
            "HP-16_3_17_14.png\n",
            "HP-16_3_17_15.png\n",
            "HP-16_3_17_16.png\n",
            "HP-16_3_17_17.png\n",
            "HP-16_3_17_18.png\n",
            "HP-16_3_17_19.png\n",
            "HP-16_3_17_20.png\n",
            "HP-16_3_17_21.png\n",
            "HP-16_3_17_22.png\n",
            "HP-16_3_17_23.png\n",
            "HP-16_3_18_0.png\n",
            "HP-16_3_18_1.png\n",
            "HP-16_3_18_2.png\n",
            "HP-16_3_18_3.png\n",
            "HP-16_3_18_4.png\n",
            "HP-16_3_18_5.png\n",
            "HP-16_3_18_6.png\n"
          ],
          "name": "stdout"
        },
        {
          "output_type": "stream",
          "text": [
            "/usr/local/lib/python3.6/dist-packages/skimage/io/_io.py:141: UserWarning: Slice/HP-16_3_18_5.png is a low contrast image\n",
            "  warn('%s is a low contrast image' % fname)\n",
            "/usr/local/lib/python3.6/dist-packages/skimage/io/_io.py:141: UserWarning: Slice/HP-16_3_18_6.png is a low contrast image\n",
            "  warn('%s is a low contrast image' % fname)\n",
            "/usr/local/lib/python3.6/dist-packages/skimage/io/_io.py:141: UserWarning: Slice/HP-16_3_18_7.png is a low contrast image\n",
            "  warn('%s is a low contrast image' % fname)\n"
          ],
          "name": "stderr"
        },
        {
          "output_type": "stream",
          "text": [
            "HP-16_3_18_7.png\n",
            "HP-16_3_18_8.png\n",
            "HP-16_3_18_9.png\n",
            "HP-16_3_18_10.png\n",
            "HP-16_3_18_11.png\n",
            "HP-16_3_18_12.png\n",
            "HP-16_3_18_13.png\n",
            "HP-16_3_18_14.png\n",
            "HP-16_3_18_15.png\n",
            "HP-16_3_18_16.png\n",
            "HP-16_3_18_17.png\n",
            "HP-16_3_18_18.png\n",
            "HP-16_3_18_19.png\n",
            "HP-16_3_18_20.png\n",
            "HP-16_3_18_21.png\n",
            "HP-16_3_18_22.png\n",
            "HP-16_3_18_23.png\n",
            "HP-16_3_19_0.png\n"
          ],
          "name": "stdout"
        },
        {
          "output_type": "stream",
          "text": [
            "/usr/local/lib/python3.6/dist-packages/skimage/io/_io.py:141: UserWarning: Slice/HP-16_3_19_0.png is a low contrast image\n",
            "  warn('%s is a low contrast image' % fname)\n",
            "/usr/local/lib/python3.6/dist-packages/skimage/io/_io.py:141: UserWarning: Slice/HP-16_3_19_1.png is a low contrast image\n",
            "  warn('%s is a low contrast image' % fname)\n"
          ],
          "name": "stderr"
        },
        {
          "output_type": "stream",
          "text": [
            "HP-16_3_19_1.png\n",
            "HP-16_3_19_2.png\n",
            "HP-16_3_19_3.png\n",
            "HP-16_3_19_4.png\n",
            "HP-16_3_19_5.png\n",
            "HP-16_3_19_6.png\n",
            "HP-16_3_19_7.png\n",
            "HP-16_3_19_8.png\n",
            "HP-16_3_19_9.png\n",
            "HP-16_3_19_10.png\n",
            "HP-16_3_19_11.png\n",
            "HP-16_3_19_12.png\n",
            "HP-16_3_19_13.png\n",
            "HP-16_3_19_14.png\n",
            "HP-16_3_19_15.png\n",
            "HP-16_3_19_16.png\n",
            "HP-16_3_19_17.png\n",
            "HP-16_3_19_18.png\n",
            "HP-16_3_19_19.png\n",
            "HP-16_3_19_20.png\n",
            "HP-16_3_19_21.png\n",
            "HP-16_3_19_22.png\n",
            "HP-16_3_19_23.png\n",
            "HP-16_3_20_0.png\n",
            "HP-16_3_20_1.png\n",
            "HP-16_3_20_2.png\n",
            "HP-16_3_20_3.png\n",
            "HP-16_3_20_4.png\n",
            "HP-16_3_20_5.png\n",
            "HP-16_3_20_6.png\n",
            "HP-16_3_20_7.png\n",
            "HP-16_3_20_8.png\n",
            "HP-16_3_20_9.png\n",
            "HP-16_3_20_10.png\n",
            "HP-16_3_20_11.png\n",
            "HP-16_3_20_12.png\n"
          ],
          "name": "stdout"
        },
        {
          "output_type": "stream",
          "text": [
            "/usr/local/lib/python3.6/dist-packages/skimage/io/_io.py:141: UserWarning: Slice/HP-16_3_20_6.png is a low contrast image\n",
            "  warn('%s is a low contrast image' % fname)\n",
            "/usr/local/lib/python3.6/dist-packages/skimage/io/_io.py:141: UserWarning: Slice/HP-16_3_20_7.png is a low contrast image\n",
            "  warn('%s is a low contrast image' % fname)\n",
            "/usr/local/lib/python3.6/dist-packages/skimage/io/_io.py:141: UserWarning: Slice/HP-16_3_20_8.png is a low contrast image\n",
            "  warn('%s is a low contrast image' % fname)\n",
            "/usr/local/lib/python3.6/dist-packages/skimage/io/_io.py:141: UserWarning: Slice/HP-16_3_20_9.png is a low contrast image\n",
            "  warn('%s is a low contrast image' % fname)\n",
            "/usr/local/lib/python3.6/dist-packages/skimage/io/_io.py:141: UserWarning: Slice/HP-16_3_20_10.png is a low contrast image\n",
            "  warn('%s is a low contrast image' % fname)\n"
          ],
          "name": "stderr"
        },
        {
          "output_type": "stream",
          "text": [
            "HP-16_3_20_13.png\n",
            "HP-16_3_20_14.png\n",
            "HP-16_3_20_15.png\n",
            "HP-16_3_20_16.png\n",
            "HP-16_3_20_17.png\n",
            "HP-16_3_20_18.png\n",
            "HP-16_3_20_19.png\n",
            "HP-16_3_20_20.png\n",
            "HP-16_3_20_21.png\n",
            "HP-16_3_20_22.png\n",
            "HP-16_3_20_23.png\n",
            "HP-16_3_21_0.png\n",
            "HP-16_3_21_1.png\n",
            "HP-16_3_21_2.png\n",
            "HP-16_3_21_3.png\n",
            "HP-16_3_21_4.png\n",
            "HP-16_3_21_5.png\n",
            "HP-16_3_21_6.png\n"
          ],
          "name": "stdout"
        },
        {
          "output_type": "stream",
          "text": [
            "/usr/local/lib/python3.6/dist-packages/skimage/io/_io.py:141: UserWarning: Slice/HP-16_3_21_5.png is a low contrast image\n",
            "  warn('%s is a low contrast image' % fname)\n",
            "/usr/local/lib/python3.6/dist-packages/skimage/io/_io.py:141: UserWarning: Slice/HP-16_3_21_6.png is a low contrast image\n",
            "  warn('%s is a low contrast image' % fname)\n",
            "/usr/local/lib/python3.6/dist-packages/skimage/io/_io.py:141: UserWarning: Slice/HP-16_3_21_7.png is a low contrast image\n",
            "  warn('%s is a low contrast image' % fname)\n",
            "/usr/local/lib/python3.6/dist-packages/skimage/io/_io.py:141: UserWarning: Slice/HP-16_3_21_9.png is a low contrast image\n",
            "  warn('%s is a low contrast image' % fname)\n"
          ],
          "name": "stderr"
        },
        {
          "output_type": "stream",
          "text": [
            "HP-16_3_21_7.png\n",
            "HP-16_3_21_8.png\n",
            "HP-16_3_21_9.png\n",
            "HP-16_3_21_10.png\n",
            "HP-16_3_21_11.png\n",
            "HP-16_3_21_12.png\n",
            "HP-16_3_21_13.png\n",
            "HP-16_3_21_14.png\n",
            "HP-16_3_21_15.png\n",
            "HP-16_3_21_16.png\n"
          ],
          "name": "stdout"
        },
        {
          "output_type": "stream",
          "text": [
            "/usr/local/lib/python3.6/dist-packages/skimage/io/_io.py:141: UserWarning: Slice/HP-16_3_21_11.png is a low contrast image\n",
            "  warn('%s is a low contrast image' % fname)\n"
          ],
          "name": "stderr"
        },
        {
          "output_type": "stream",
          "text": [
            "HP-16_3_21_17.png\n",
            "HP-16_3_21_18.png\n",
            "HP-16_3_21_19.png\n",
            "HP-16_3_21_20.png\n",
            "HP-16_3_21_21.png\n",
            "HP-16_3_21_22.png\n",
            "HP-16_3_21_23.png\n",
            "HP-16_3_22_0.png\n",
            "HP-16_3_22_1.png\n",
            "HP-16_3_22_2.png\n",
            "HP-16_3_22_3.png\n",
            "HP-16_3_22_4.png\n",
            "HP-16_3_22_5.png\n",
            "HP-16_3_22_6.png\n",
            "HP-16_3_22_7.png\n",
            "HP-16_3_22_8.png\n",
            "HP-16_3_22_9.png\n",
            "HP-16_3_22_10.png\n"
          ],
          "name": "stdout"
        },
        {
          "output_type": "stream",
          "text": [
            "/usr/local/lib/python3.6/dist-packages/skimage/io/_io.py:141: UserWarning: Slice/HP-16_3_22_8.png is a low contrast image\n",
            "  warn('%s is a low contrast image' % fname)\n",
            "/usr/local/lib/python3.6/dist-packages/skimage/io/_io.py:141: UserWarning: Slice/HP-16_3_22_9.png is a low contrast image\n",
            "  warn('%s is a low contrast image' % fname)\n",
            "/usr/local/lib/python3.6/dist-packages/skimage/io/_io.py:141: UserWarning: Slice/HP-16_3_22_10.png is a low contrast image\n",
            "  warn('%s is a low contrast image' % fname)\n",
            "/usr/local/lib/python3.6/dist-packages/skimage/io/_io.py:141: UserWarning: Slice/HP-16_3_22_11.png is a low contrast image\n",
            "  warn('%s is a low contrast image' % fname)\n",
            "/usr/local/lib/python3.6/dist-packages/skimage/io/_io.py:141: UserWarning: Slice/HP-16_3_22_12.png is a low contrast image\n",
            "  warn('%s is a low contrast image' % fname)\n",
            "/usr/local/lib/python3.6/dist-packages/skimage/io/_io.py:141: UserWarning: Slice/HP-16_3_22_13.png is a low contrast image\n",
            "  warn('%s is a low contrast image' % fname)\n"
          ],
          "name": "stderr"
        },
        {
          "output_type": "stream",
          "text": [
            "HP-16_3_22_11.png\n",
            "HP-16_3_22_12.png\n",
            "HP-16_3_22_13.png\n",
            "HP-16_3_22_14.png\n",
            "HP-16_3_22_15.png\n",
            "HP-16_3_22_16.png\n",
            "HP-16_3_22_17.png\n",
            "HP-16_3_22_18.png\n",
            "HP-16_3_22_19.png\n",
            "HP-16_3_22_20.png\n",
            "HP-16_3_22_21.png\n",
            "HP-16_3_22_22.png\n",
            "HP-16_3_22_23.png\n",
            "HP-16_3_23_0.png\n",
            "HP-16_3_23_1.png\n",
            "HP-16_3_23_2.png\n",
            "HP-16_3_23_3.png\n",
            "HP-16_3_23_4.png\n"
          ],
          "name": "stdout"
        },
        {
          "output_type": "stream",
          "text": [
            "/usr/local/lib/python3.6/dist-packages/skimage/io/_io.py:141: UserWarning: Slice/HP-16_3_23_0.png is a low contrast image\n",
            "  warn('%s is a low contrast image' % fname)\n",
            "/usr/local/lib/python3.6/dist-packages/skimage/io/_io.py:141: UserWarning: Slice/HP-16_3_23_1.png is a low contrast image\n",
            "  warn('%s is a low contrast image' % fname)\n"
          ],
          "name": "stderr"
        },
        {
          "output_type": "stream",
          "text": [
            "HP-16_3_23_5.png\n",
            "HP-16_3_23_6.png\n",
            "HP-16_3_23_7.png\n",
            "HP-16_3_23_8.png\n",
            "HP-16_3_23_9.png\n",
            "HP-16_3_23_10.png\n",
            "HP-16_3_23_11.png\n",
            "HP-16_3_23_12.png\n"
          ],
          "name": "stdout"
        },
        {
          "output_type": "stream",
          "text": [
            "/usr/local/lib/python3.6/dist-packages/skimage/io/_io.py:141: UserWarning: Slice/HP-16_3_23_9.png is a low contrast image\n",
            "  warn('%s is a low contrast image' % fname)\n",
            "/usr/local/lib/python3.6/dist-packages/skimage/io/_io.py:141: UserWarning: Slice/HP-16_3_23_10.png is a low contrast image\n",
            "  warn('%s is a low contrast image' % fname)\n",
            "/usr/local/lib/python3.6/dist-packages/skimage/io/_io.py:141: UserWarning: Slice/HP-16_3_23_11.png is a low contrast image\n",
            "  warn('%s is a low contrast image' % fname)\n",
            "/usr/local/lib/python3.6/dist-packages/skimage/io/_io.py:141: UserWarning: Slice/HP-16_3_23_12.png is a low contrast image\n",
            "  warn('%s is a low contrast image' % fname)\n",
            "/usr/local/lib/python3.6/dist-packages/skimage/io/_io.py:141: UserWarning: Slice/HP-16_3_23_13.png is a low contrast image\n",
            "  warn('%s is a low contrast image' % fname)\n"
          ],
          "name": "stderr"
        },
        {
          "output_type": "stream",
          "text": [
            "HP-16_3_23_13.png\n",
            "HP-16_3_23_14.png\n",
            "HP-16_3_23_15.png\n",
            "HP-16_3_23_16.png\n",
            "HP-16_3_23_17.png\n",
            "HP-16_3_23_18.png\n",
            "HP-16_3_23_19.png\n",
            "HP-16_3_23_20.png\n",
            "HP-16_3_23_21.png\n",
            "HP-16_3_23_22.png\n",
            "HP-16_3_23_23.png\n",
            "256\n"
          ],
          "name": "stdout"
        }
      ]
    }
  ]
}