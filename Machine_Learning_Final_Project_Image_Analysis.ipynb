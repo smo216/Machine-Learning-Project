{
  "nbformat": 4,
  "nbformat_minor": 0,
  "metadata": {
    "colab": {
      "name": "Machine Learning Final Project Image Analysis.ipynb",
      "provenance": [],
      "include_colab_link": true
    },
    "kernelspec": {
      "name": "python3",
      "display_name": "Python 3"
    }
  },
  "cells": [
    {
      "cell_type": "markdown",
      "metadata": {
        "id": "view-in-github",
        "colab_type": "text"
      },
      "source": [
        "<a href=\"https://colab.research.google.com/github/smo216/Machine-Learning-Project/blob/master/Machine_Learning_Final_Project_Image_Analysis.ipynb\" target=\"_parent\"><img src=\"https://colab.research.google.com/assets/colab-badge.svg\" alt=\"Open In Colab\"/></a>"
      ]
    },
    {
      "cell_type": "code",
      "metadata": {
        "id": "dGHpl6uNhNPm",
        "colab_type": "code",
        "colab": {}
      },
      "source": [
        "## For Image portion\n",
        "from google.colab import drive\n",
        "drive.mount('/content/gdrive')\n",
        "from PIL import Image\n",
        "# importing os module \n",
        "import os \n",
        "\n",
        "print(os.name)\n",
        "print(os.getcwd()) \n",
        "\n",
        "os.chdir(\"//content//gdrive//My Drive//PhD Image Processing//Processed Images//UAB//HP-16\")\n",
        "\n",
        "\n",
        "filename='HP-16_0.tif'\n",
        "im = Image.open(filename)\n",
        "im.show()\n"
      ],
      "execution_count": 0,
      "outputs": []
    },
    {
      "cell_type": "code",
      "metadata": {
        "id": "hsd_fYYqohhi",
        "colab_type": "code",
        "outputId": "eafefd0d-3b68-4d41-dde1-3a1022692e92",
        "colab": {
          "base_uri": "https://localhost:8080/",
          "height": 34
        }
      },
      "source": [
        "from google.colab import drive\n",
        "drive.mount('/content/gdrive')\n",
        "import matplotlib.pyplot as plt\n",
        "import numpy as np\n",
        "import pandas as pd\n",
        "# importing os module \n",
        "import os \n",
        "from sklearn.ensemble import RandomForestClassifier\n",
        "from sklearn.datasets import make_classification\n",
        "\n",
        "#Load in data\n",
        "os.chdir(\"//content//gdrive//My Drive//PhD casting project//Summary files\")\n",
        "\n",
        "#filename='PhaseFraction.csv'\n",
        "filename='DTAdata.csv'\n",
        "\n",
        "data = pd.read_csv(filename)\n",
        "data.head\n",
        "data.shape\n",
        "#F_MC=data['Fraction MC E1']\n",
        "\n",
        "## Define Data of Interest\n",
        "labels=data['Sample ID']\n",
        "#F_Y_MC=data['Fraction Y E1']\n",
        "#F_MC=data['Fraction MC E1']\n",
        "#F_Y_M7=data['Fraction Y E2']\n",
        "#F_M7=data['Fraction M7C3 E2']"
      ],
      "execution_count": 0,
      "outputs": [
        {
          "output_type": "stream",
          "text": [
            "Drive already mounted at /content/gdrive; to attempt to forcibly remount, call drive.mount(\"/content/gdrive\", force_remount=True).\n"
          ],
          "name": "stdout"
        }
      ]
    },
    {
      "cell_type": "code",
      "metadata": {
        "id": "tbBL8aI11Oll",
        "colab_type": "code",
        "outputId": "e8053236-4919-4aae-ddd4-18bb0012976e",
        "colab": {
          "base_uri": "https://localhost:8080/",
          "height": 392
        }
      },
      "source": [
        "# %% Visualize Data\n",
        "plt.figure(figsize=(10,6))\n",
        "plt.scatter(data['C'],data['Liquidus'])\n",
        "plt.xlabel('Concentration (wt.%)')\n",
        "plt.ylabel('Temperature (C)')\n",
        "plt.show()\n",
        "\n",
        "\n",
        "#Random Forest?\n",
        "\n",
        "\n",
        "#X, y = make_classification(n_samples=1000, n_features=4,\n",
        "#                           n_informative=2, n_redundant=0,\n",
        "#                           random_state=0, shuffle=False)\n",
        "#clf = RandomForestClassifier(n_estimators=100, max_depth=2,\n",
        "#                             random_state=0)\n",
        "#clf.fit(X, y)  \n",
        "\n",
        "\n",
        "#print(clf.feature_importances_)\n",
        "\n",
        "#print(clf.predict([[0, 0, 0, 0]]))"
      ],
      "execution_count": 0,
      "outputs": [
        {
          "output_type": "display_data",
          "data": {
            "image/png": "[encoded data removed]",
            "text/plain": [
              "<Figure size 720x432 with 1 Axes>"
            ]
          },
          "metadata": {
            "tags": []
          }
        }
      ]
    },
    {
      "cell_type": "code",
      "metadata": {
        "id": "7slpzDth25jB",
        "colab_type": "code",
        "colab": {}
      },
      "source": [
        "from sklearn.ensemble import RandomForestClassifier\n",
        "from sklearn.datasets import make_classification\n",
        "from sklearn.tree import DecisionTreeClassifier\n",
        "\n",
        "# Make a decision tree and train\n",
        "tree = DecisionTreeClassifier(random_state=RSEED)\n",
        "tree.fit(X, y)\n",
        "\n",
        "print(f'Model Accuracy: {tree.score(X, y)}')\n",
        "\n",
        "Model Accuracy: 1.0"
      ],
      "execution_count": 0,
      "outputs": []
    }
  ]
}